{
 "cells": [
  {
   "cell_type": "code",
   "execution_count": 1,
   "id": "42a297e3-b56a-441e-954f-e1dab977e768",
   "metadata": {},
   "outputs": [],
   "source": [
    "import pandas as pd"
   ]
  },
  {
   "cell_type": "code",
   "execution_count": 3,
   "id": "e7faf0fe-4339-4695-8ca6-e47d8f6361f8",
   "metadata": {},
   "outputs": [],
   "source": [
    "# Load the dataset\n",
    "df = pd.read_csv(\"Salaries.csv\")"
   ]
  },
  {
   "cell_type": "code",
   "execution_count": 5,
   "id": "93e5827e-3a03-45b6-bee7-fe64a7388020",
   "metadata": {},
   "outputs": [
    {
     "name": "stdout",
     "output_type": "stream",
     "text": [
      "Dataset Preview:\n",
      "   rank discipline  phd  service   sex  salary\n",
      "0  Prof          B   56       49  Male  186960\n",
      "1  Prof          A   12        6  Male   93000\n",
      "2  Prof          A   23       20  Male  110515\n",
      "3  Prof          A   40       31  Male  131205\n",
      "4  Prof          B   20       18  Male  104800\n"
     ]
    }
   ],
   "source": [
    "# Show basic info\n",
    "print(\"Dataset Preview:\")\n",
    "print(df.head())"
   ]
  },
  {
   "cell_type": "code",
   "execution_count": 17,
   "id": "843044f3-342f-43f0-aedd-b7b1e77aa8cb",
   "metadata": {},
   "outputs": [
    {
     "name": "stdout",
     "output_type": "stream",
     "text": [
      "Columns in the dataset:\n",
      "['rank', 'discipline', 'phd', 'service', 'sex', 'salary']\n"
     ]
    }
   ],
   "source": [
    "print(\"Columns in the dataset:\")\n",
    "print(df.columns.tolist())"
   ]
  },
  {
   "cell_type": "code",
   "execution_count": 7,
   "id": "00281100-bb79-40cf-a14b-53a2d3d4810b",
   "metadata": {},
   "outputs": [
    {
     "name": "stdout",
     "output_type": "stream",
     "text": [
      "\n",
      "Summary Statistics:\n",
      "        rank discipline        phd    service   sex         salary\n",
      "count     78         78  78.000000  78.000000    78      78.000000\n",
      "unique     3          2        NaN        NaN     2            NaN\n",
      "top     Prof          B        NaN        NaN  Male            NaN\n",
      "freq      46         42        NaN        NaN    39            NaN\n",
      "mean     NaN        NaN  19.705128  15.051282   NaN  108023.782051\n",
      "std      NaN        NaN  12.498425  12.139768   NaN   28293.661022\n",
      "min      NaN        NaN   1.000000   0.000000   NaN   57800.000000\n",
      "25%      NaN        NaN  10.250000   5.250000   NaN   88612.500000\n",
      "50%      NaN        NaN  18.500000  14.500000   NaN  104671.000000\n",
      "75%      NaN        NaN  27.750000  20.750000   NaN  126774.750000\n",
      "max      NaN        NaN  56.000000  51.000000   NaN  186960.000000\n"
     ]
    }
   ],
   "source": [
    "# Summary statistics\n",
    "print(\"\\nSummary Statistics:\")\n",
    "print(df.describe(include='all'))"
   ]
  },
  {
   "cell_type": "code",
   "execution_count": 19,
   "id": "78676a53-8527-4a9d-9ff7-1018dab1e325",
   "metadata": {},
   "outputs": [
    {
     "name": "stdout",
     "output_type": "stream",
     "text": [
      "\n",
      "Average Salary by Rank:\n",
      "rank\n",
      "Prof         123624.804348\n",
      "AssocProf     91786.230769\n",
      "AsstProf      81362.789474\n",
      "Name: salary, dtype: float64\n"
     ]
    }
   ],
   "source": [
    "# Check if required columns are present\n",
    "if 'rank' in df.columns and 'salary' in df.columns:\n",
    "    # Clean salary column if needed\n",
    "    df['salary'] = pd.to_numeric(df['salary'], errors='coerce')\n",
    "    \n",
    "    # Average salary by rank\n",
    "    avg_salary = df.groupby('rank')['salary'].mean().sort_values(ascending=False)\n",
    "    print(\"\\nAverage Salary by Rank:\")\n",
    "    print(avg_salary)\n",
    "else:\n",
    "    print(\"\\nRequired columns ('rank' and 'salary') not found in the dataset.\")"
   ]
  },
  {
   "cell_type": "code",
   "execution_count": null,
   "id": "afba72e4-095c-457b-928a-9e067cf59dd8",
   "metadata": {},
   "outputs": [],
   "source": []
  }
 ],
 "metadata": {
  "kernelspec": {
   "display_name": "Python [conda env:base] *",
   "language": "python",
   "name": "conda-base-py"
  },
  "language_info": {
   "codemirror_mode": {
    "name": "ipython",
    "version": 3
   },
   "file_extension": ".py",
   "mimetype": "text/x-python",
   "name": "python",
   "nbconvert_exporter": "python",
   "pygments_lexer": "ipython3",
   "version": "3.12.7"
  }
 },
 "nbformat": 4,
 "nbformat_minor": 5
}
